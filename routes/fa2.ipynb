{
 "metadata": {
  "language_info": {
   "codemirror_mode": {
    "name": "ipython",
    "version": 3
   },
   "file_extension": ".py",
   "mimetype": "text/x-python",
   "name": "python",
   "nbconvert_exporter": "python",
   "pygments_lexer": "ipython3",
   "version": "3.8.2-final"
  },
  "orig_nbformat": 2,
  "kernelspec": {
   "name": "python38264bit59d07752cbe54c999daad95848d933b6",
   "display_name": "Python 3.8.2 64-bit"
  }
 },
 "nbformat": 4,
 "nbformat_minor": 2,
 "cells": [
  {
   "cell_type": "code",
   "execution_count": 4,
   "metadata": {},
   "outputs": [],
   "source": [
    "from pytezos import pytezos, Key, Contract"
   ]
  },
  {
   "cell_type": "code",
   "execution_count": 3,
   "metadata": {},
   "outputs": [],
   "source": [
    "import os"
   ]
  },
  {
   "cell_type": "code",
   "execution_count": 4,
   "metadata": {},
   "outputs": [
    {
     "output_type": "execute_result",
     "data": {
      "text/plain": "0"
     },
     "metadata": {},
     "execution_count": 4
    }
   ],
   "source": [
    "\n",
    "Key.verify(public_key, message)"
   ]
  },
  {
   "cell_type": "code",
   "execution_count": 2,
   "metadata": {},
   "outputs": [],
   "source": [
    "key = {\n",
    "\t\"secret\" : \"edskSAjtDJG4p9QLC5X9KptT3JmXGE9LzZWv4PqAyoxGBq5m19aoSrRBmHUEdpPpdtH8k1tpHEtW2pDFjvsRC3VAyVMtM8TpD6\",\n",
    "\t\"password\" : \"cucfXmr8Sa\",\n",
    "\t\"network\" : \"carthagenet\"\n",
    "}"
   ]
  },
  {
   "cell_type": "code",
   "execution_count": 10,
   "metadata": {
    "tags": []
   },
   "outputs": [
    {
     "output_type": "stream",
     "name": "stdout",
     "text": "None\n"
    }
   ],
   "source": [
    "k = Key.from_encoded_key(key['secret'], passphrase = key['password'])\n",
    "\n",
    "k.sign('oi')\n",
    "print(k.verify('edsigtjS9wFrH5gHDYKos3bXDCyGd17zCAqVnr1hrqxger6TTL9zaw4U8eynxWN36RzZ3pXTnGNP8FZ5qRPH8kyRgU2bLpuQZ4Q', 'oi'))\n",
    "#Key.sign()"
   ]
  },
  {
   "cell_type": "code",
   "execution_count": null,
   "metadata": {},
   "outputs": [],
   "source": [
    "def sign():\n",
    "    Key."
   ]
  }
 ]
}